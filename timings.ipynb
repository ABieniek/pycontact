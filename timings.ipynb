{
 "cells": [
  {
   "cell_type": "code",
   "execution_count": 1,
   "metadata": {},
   "outputs": [],
   "source": [
    "from PyContact.core.ContactManager import ContactManager\n",
    "from PyContact.core.ContactAnalyzer import ContactAnalyzer\n",
    "topo = \"PyContact/exampleData/rpn11_ubq.psf\"\n",
    "trajs = [\"PyContact/exampleData/rpn11_ubq.dcd\"]\n",
    "man = ContactManager(topo, trajs, 5.0, 2.5, 120, \"segid RN11\", \"segid UBQ\")\n",
    "man.readTrajectories(nproc=4)\n",
    "man.accumulateContacts(map1=[0,0,1,1,0], map2=[0,0,1,1,0])\n",
    "# ct = ContactAnalyzer(man.atomicContactTrajectories[0], [1,1,1,1,1], [1,1,1,1,1]).accumulateContacts()"
   ]
  },
  {
   "cell_type": "code",
   "execution_count": 9,
   "metadata": {},
   "outputs": [
    {
     "name": "stdout",
     "output_type": "stream",
     "text": [
      "(array([  0,   9,  11,  13,  19,  20,  22,  24,  28,  34,  39,  45,  54,\n",
      "        58,  60,  61,  62,  75,  77,  79,  84,  89,  91,  92,  94,  95,\n",
      "        96, 113]),)\n"
     ]
    },
    {
     "data": {
      "image/png": "[encoded data removed]",
      "text/plain": [
       "<Figure size 432x288 with 1 Axes>"
      ]
     },
     "metadata": {},
     "output_type": "display_data"
    }
   ],
   "source": [
    "# test filters\n",
    "from PyContact.core.ContactFilters import get_contacts_of_type, get_subrange, get_sorted_contact_scores\n",
    "import matplotlib.pyplot as plt\n",
    "\n",
    "ctrj = man.accumulatedContactTrajectories[0]\n",
    "\n",
    "# cf = get_subrange(ctrj.contactScores, [25, 44])\n",
    "\n",
    "mask = get_contacts_of_type(ctrj.contactTypes, \"hbonds\")\n",
    "hbonds_only = ctrj.contactScores[mask[0],:]\n",
    "plt.imshow(hbonds_only)\n",
    "print(mask)"
   ]
  },
  {
   "cell_type": "code",
   "execution_count": 11,
   "metadata": {},
   "outputs": [
    {
     "data": {
      "text/plain": [
       "<matplotlib.image.AxesImage at 0x11d14d1d0>"
      ]
     },
     "execution_count": 11,
     "metadata": {},
     "output_type": "execute_result"
    },
    {
     "data": {
      "image/png": "[encoded data removed]",
      "text/plain": [
       "<Figure size 432x288 with 1 Axes>"
      ]
     },
     "metadata": {},
     "output_type": "display_data"
    }
   ],
   "source": [
    "mask2 = get_sorted_contact_scores(hbonds_only, u\"median\")\n",
    "plt.imshow(hbonds_only[mask2][::-1])"
   ]
  },
  {
   "cell_type": "code",
   "execution_count": null,
   "metadata": {},
   "outputs": [],
   "source": []
  }
 ],
 "metadata": {
  "kernelspec": {
   "display_name": "Python 3",
   "language": "python",
   "name": "python3"
  },
  "language_info": {
   "codemirror_mode": {
    "name": "ipython",
    "version": 3
   },
   "file_extension": ".py",
   "mimetype": "text/x-python",
   "name": "python",
   "nbconvert_exporter": "python",
   "pygments_lexer": "ipython3",
   "version": "3.6.4"
  },
  "varInspector": {
   "cols": {
    "lenName": 16,
    "lenType": 16,
    "lenVar": 40
   },
   "kernels_config": {
    "python": {
     "delete_cmd_postfix": "",
     "delete_cmd_prefix": "del ",
     "library": "var_list.py",
     "varRefreshCmd": "print(var_dic_list())"
    },
    "r": {
     "delete_cmd_postfix": ") ",
     "delete_cmd_prefix": "rm(",
     "library": "var_list.r",
     "varRefreshCmd": "cat(var_dic_list()) "
    }
   },
   "types_to_exclude": [
    "module",
    "function",
    "builtin_function_or_method",
    "instance",
    "_Feature"
   ],
   "window_display": false
  }
 },
 "nbformat": 4,
 "nbformat_minor": 2
}

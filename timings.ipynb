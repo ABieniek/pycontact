{
 "cells": [
  {
   "cell_type": "code",
   "execution_count": 4,
   "metadata": {},
   "outputs": [
    {
     "name": "stdout",
     "output_type": "stream",
     "text": [
      "1.9 s ± 0 ns per loop (mean ± std. dev. of 1 run, 1 loop each)\n"
     ]
    }
   ],
   "source": [
    "from PyContact.core.ContactManager import ContactManager\n",
    "from PyContact.core.ContactAnalyzer import ContactAnalyzer\n",
    "topo = \"PyContact/exampleData/rpn11_ubq.psf\"\n",
    "trajs = [\"PyContact/exampleData/rpn11_ubq.dcd\"]\n",
    "man = ContactManager(topo, trajs, 5.0, 2.5, 120, \"segid RN11\", \"segid UBQ\")\n",
    "man.readTrajectories(nproc=4)\n",
    "# man.accumulateContacts(map1=[1,1,1,1,1], map2=[1,1,1,1,1])\n",
    "%timeit -r 1 ct = ContactAnalyzer(man.atomicContactTrajectories[0], [1,1,1,1,1], [1,1,1,1,1]).accumulateContacts()\n"
   ]
  },
  {
   "cell_type": "code",
   "execution_count": null,
   "metadata": {},
   "outputs": [],
   "source": []
  }
 ],
 "metadata": {
  "kernelspec": {
   "display_name": "Python 3",
   "language": "python",
   "name": "python3"
  },
  "language_info": {
   "codemirror_mode": {
    "name": "ipython",
    "version": 3
   },
   "file_extension": ".py",
   "mimetype": "text/x-python",
   "name": "python",
   "nbconvert_exporter": "python",
   "pygments_lexer": "ipython3",
   "version": "3.6.4"
  },
  "varInspector": {
   "cols": {
    "lenName": 16,
    "lenType": 16,
    "lenVar": 40
   },
   "kernels_config": {
    "python": {
     "delete_cmd_postfix": "",
     "delete_cmd_prefix": "del ",
     "library": "var_list.py",
     "varRefreshCmd": "print(var_dic_list())"
    },
    "r": {
     "delete_cmd_postfix": ") ",
     "delete_cmd_prefix": "rm(",
     "library": "var_list.r",
     "varRefreshCmd": "cat(var_dic_list()) "
    }
   },
   "types_to_exclude": [
    "module",
    "function",
    "builtin_function_or_method",
    "instance",
    "_Feature"
   ],
   "window_display": false
  }
 },
 "nbformat": 4,
 "nbformat_minor": 2
}
